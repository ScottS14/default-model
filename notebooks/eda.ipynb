{
 "cells": [
  {
   "cell_type": "markdown",
   "id": "1d202454",
   "metadata": {},
   "source": [
    "## EDA Overview - Home-Credit Risk"
   ]
  },
  {
   "cell_type": "code",
   "execution_count": 1,
   "id": "57d0af5f",
   "metadata": {},
   "outputs": [],
   "source": [
    "import pandas as pd\n",
    "import numpy as np\n",
    "\n",
    "import matplotlib as plt"
   ]
  },
  {
   "cell_type": "code",
   "execution_count": 5,
   "id": "317424ec",
   "metadata": {},
   "outputs": [
    {
     "name": "stdout",
     "output_type": "stream",
     "text": [
      "(307511, 122) (48744, 121)\n"
     ]
    }
   ],
   "source": [
    "app_train = pd.read_csv('../data/raw/home_credit/application_train.csv')\n",
    "app_test = pd.read_csv('../data/raw/home_credit/application_test.csv')\n",
    "\n",
    "print(app_train.shape, app_test.shape)"
   ]
  }
 ],
 "metadata": {
  "kernelspec": {
   "display_name": "default-model",
   "language": "python",
   "name": "python3"
  },
  "language_info": {
   "codemirror_mode": {
    "name": "ipython",
    "version": 3
   },
   "file_extension": ".py",
   "mimetype": "text/x-python",
   "name": "python",
   "nbconvert_exporter": "python",
   "pygments_lexer": "ipython3",
   "version": "3.13.2"
  }
 },
 "nbformat": 4,
 "nbformat_minor": 5
}
