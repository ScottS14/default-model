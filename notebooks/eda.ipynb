{
 "cells": [
  {
   "cell_type": "markdown",
   "id": "1d202454",
   "metadata": {},
   "source": [
    "## EDA Overview - Home-Credit Risk"
   ]
  },
  {
   "cell_type": "code",
   "execution_count": 1,
   "id": "57d0af5f",
   "metadata": {},
   "outputs": [],
   "source": [
    "import pandas as pd\n",
    "import numpy as np\n",
    "\n",
    "from matplotlib import pyplot as plt\n"
   ]
  },
  {
   "cell_type": "code",
   "execution_count": 2,
   "id": "317424ec",
   "metadata": {},
   "outputs": [],
   "source": [
    "app_train = pd.read_csv('../data/raw/home_credit/application_train.csv')\n",
    "app_test = pd.read_csv('../data/raw/home_credit/application_test.csv')\n",
    "bureau = pd.read_csv('../data/raw/home_credit/bureau.csv')\n",
    "bureau_balance = pd.read_csv('../data/raw/home_credit/bureau_balance.csv')\n",
    "prev = pd.read_csv('../data/raw/home_credit/previous_application.csv')\n",
    "pos = pd.read_csv('../data/raw/home_credit/POS_CASH_balance.csv')\n",
    "ins = pd.read_csv('../data/raw/home_credit/installments_payments.csv')\n",
    "cc = pd.read_csv('../data/raw/home_credit/credit_card_balance.csv')"
   ]
  },
  {
   "cell_type": "markdown",
   "id": "78e54b8e",
   "metadata": {},
   "source": [
    "## Project snapshot"
   ]
  },
  {
   "cell_type": "code",
   "execution_count": null,
   "id": "a6245e1d",
   "metadata": {},
   "outputs": [],
   "source": [
    "def audit(df, name):\n",
    "    return {\n",
    "        \"dataset\": name,\n",
    "        \"rows\": len(df),\n",
    "        \"cols\": df.shape[1],\n",
    "        \"numeric\": df.select_dtypes(\"number\").shape[1],\n",
    "        \"categorical\": df.select_dtypes(include=[\"object\",\"category\",\"bool\"]).shape[1],\n",
    "        \"missing_pct_mean\": df.isna().mean().mean() * 100,\n",
    "    }\n",
    "\n",
    "summary = pd.DataFrame([\n",
    "    audit(app_train, \"application_train\"),\n",
    "    audit(app_test, \"application_test\"),\n",
    "    audit(bureau, \"bureau\"),\n",
    "    audit(prev, \"previous_application\"),\n",
    "    audit(pos, \"pos_cash\"),\n",
    "    audit(ins, \"installments\"),\n",
    "    audit(cc, \"credit_card\"),\n",
    "    audit(bureau_balance, \"bureau_balance\"),\n",
    "]).sort_values(\"rows\", ascending=False)\n",
    "summary\n"
   ]
  },
  {
   "cell_type": "code",
   "execution_count": null,
   "id": "c2c92dd0",
   "metadata": {},
   "outputs": [],
   "source": [
    "# Get value counts\n",
    "target_counts = app_train[\"TARGET\"].value_counts().sort_index()\n",
    "labels = target_counts.index.map({0: \"Paid (0)\", 1: \"Default (1)\"})\n",
    "colors = [\"steelblue\", \"crimson\"]\n",
    "\n",
    "# Plot\n",
    "plt.figure(figsize=(6, 4))\n",
    "bars = plt.bar(labels, target_counts.values, color=colors)\n",
    "\n",
    "# Add text on bars\n",
    "for bar in bars:\n",
    "    yval = bar.get_height()\n",
    "    plt.text(bar.get_x() + bar.get_width()/2, yval + 500, yval, ha=\"center\", va=\"bottom\")\n",
    "\n",
    "# Titles and labels\n",
    "plt.title(\"Distribution of TARGET variable\")\n",
    "plt.xlabel(\"TARGET class\")\n",
    "plt.ylabel(\"Number of applicants\")\n",
    "plt.tight_layout()\n",
    "plt.show()\n",
    "\n",
    "# Unpaid loan percentage\n",
    "unpaid_pct = target_counts.loc[1] / target_counts.sum() * 100\n",
    "print(f\"Percentage of unpaid loans (TARGET=1): {unpaid_pct:.2f}%\")"
   ]
  },
  {
   "cell_type": "markdown",
   "id": "22a000c2",
   "metadata": {},
   "source": [
    "## Coverage and joinability check"
   ]
  },
  {
   "cell_type": "code",
   "execution_count": 16,
   "id": "8d4aa51e",
   "metadata": {},
   "outputs": [
    {
     "data": {
      "text/html": [
       "<div>\n",
       "<style scoped>\n",
       "    .dataframe tbody tr th:only-of-type {\n",
       "        vertical-align: middle;\n",
       "    }\n",
       "\n",
       "    .dataframe tbody tr th {\n",
       "        vertical-align: top;\n",
       "    }\n",
       "\n",
       "    .dataframe thead th {\n",
       "        text-align: right;\n",
       "    }\n",
       "</style>\n",
       "<table border=\"1\" class=\"dataframe\">\n",
       "  <thead>\n",
       "    <tr style=\"text-align: right;\">\n",
       "      <th></th>\n",
       "      <th>table</th>\n",
       "      <th>customers</th>\n",
       "      <th>coverage_pct</th>\n",
       "    </tr>\n",
       "  </thead>\n",
       "  <tbody>\n",
       "    <tr>\n",
       "      <th>3</th>\n",
       "      <td>installments</td>\n",
       "      <td>339587</td>\n",
       "      <td>95.321329</td>\n",
       "    </tr>\n",
       "    <tr>\n",
       "      <th>1</th>\n",
       "      <td>previous</td>\n",
       "      <td>338857</td>\n",
       "      <td>95.116419</td>\n",
       "    </tr>\n",
       "    <tr>\n",
       "      <th>2</th>\n",
       "      <td>pos_cash</td>\n",
       "      <td>337252</td>\n",
       "      <td>94.665899</td>\n",
       "    </tr>\n",
       "    <tr>\n",
       "      <th>0</th>\n",
       "      <td>bureau</td>\n",
       "      <td>305811</td>\n",
       "      <td>85.840479</td>\n",
       "    </tr>\n",
       "    <tr>\n",
       "      <th>4</th>\n",
       "      <td>credit_card</td>\n",
       "      <td>103558</td>\n",
       "      <td>29.068504</td>\n",
       "    </tr>\n",
       "  </tbody>\n",
       "</table>\n",
       "</div>"
      ],
      "text/plain": [
       "          table  customers  coverage_pct\n",
       "3  installments     339587     95.321329\n",
       "1      previous     338857     95.116419\n",
       "2      pos_cash     337252     94.665899\n",
       "0        bureau     305811     85.840479\n",
       "4   credit_card     103558     29.068504"
      ]
     },
     "execution_count": 16,
     "metadata": {},
     "output_type": "execute_result"
    }
   ],
   "source": [
    "aux = {\n",
    "    \"bureau\": bureau[\"SK_ID_CURR\"].nunique(),\n",
    "    \"previous\": prev[\"SK_ID_CURR\"].nunique(),\n",
    "    \"pos_cash\": pos[\"SK_ID_CURR\"].nunique(),\n",
    "    \"installments\": ins[\"SK_ID_CURR\"].nunique(),\n",
    "    \"credit_card\": cc[\"SK_ID_CURR\"].nunique(),\n",
    "}\n",
    "all_customers = app_train[\"SK_ID_CURR\"].nunique() + app_test[\"SK_ID_CURR\"].nunique()\n",
    "cov = pd.DataFrame([\n",
    "    {\"table\": k, \"customers\": v, \"coverage_pct\": 100 * v / all_customers}\n",
    "    for k, v in aux.items()\n",
    "]).sort_values(\"coverage_pct\", ascending=False)\n",
    "cov"
   ]
  },
  {
   "cell_type": "code",
   "execution_count": 46,
   "id": "1915fcd9",
   "metadata": {},
   "outputs": [
    {
     "data": {
      "image/png": "[encoded data removed]",
      "text/plain": [
       "<Figure size 800x500 with 1 Axes>"
      ]
     },
     "metadata": {},
     "output_type": "display_data"
    }
   ],
   "source": [
    "all_customers_entry: dict = {'table':'full_coverage', 'customers':all_customers, 'coverage_pct':100}\n",
    "\n",
    "plt.figure(figsize=(8,5))\n",
    "\n",
    "cov.loc[len(cov)] = all_customers_entry\n",
    "cov = cov.sort_values('coverage_pct', ascending=True)\n",
    "plt.bar(\n",
    "    x = cov['table'],\n",
    "    height = cov['customers'], \n",
    ")\n",
    "plt.show()"
   ]
  },
  {
   "cell_type": "markdown",
   "id": "3e8b76f8",
   "metadata": {},
   "source": [
    "## Data quality spotlight"
   ]
  },
  {
   "cell_type": "code",
   "execution_count": 33,
   "id": "3d1bc7eb",
   "metadata": {},
   "outputs": [],
   "source": [
    "def missing_values_table(df):\n",
    "    # Total missing values\n",
    "    mis_val = df.isnull().sum()\n",
    "    \n",
    "    # Percentage of missing values\n",
    "    mis_val_percent = 100 * mis_val / len(df)\n",
    "    \n",
    "    # Create a table with the results\n",
    "    mis_val_table = pd.concat([mis_val, mis_val_percent], axis=1)\n",
    "    mis_val_table_ren_columns = mis_val_table.rename(columns={0: 'Missing Values', 1: 'Percentage'})\n",
    "    \n",
    "    # Sort the table by percentage of missing values\n",
    "    mis_val_table_ren_columns = mis_val_table_ren_columns[mis_val_table_ren_columns.iloc[:, 1] != 0].sort_values(\n",
    "        'Percentage', ascending=False).round(1)\n",
    "    \n",
    "    # Summary of missing values\n",
    "    print(f\"There are {mis_val_table_ren_columns.shape[0]} columns that have missing values. These are the top 15 below:\")\n",
    "    \n",
    "    return mis_val_table_ren_columns.head(15)"
   ]
  },
  {
   "cell_type": "code",
   "execution_count": 34,
   "id": "8fbf634b",
   "metadata": {},
   "outputs": [
    {
     "name": "stdout",
     "output_type": "stream",
     "text": [
      "There are 67 columns that have missing values. These are the top 15 below:\n"
     ]
    },
    {
     "data": {
      "text/html": [
       "<div>\n",
       "<style scoped>\n",
       "    .dataframe tbody tr th:only-of-type {\n",
       "        vertical-align: middle;\n",
       "    }\n",
       "\n",
       "    .dataframe tbody tr th {\n",
       "        vertical-align: top;\n",
       "    }\n",
       "\n",
       "    .dataframe thead th {\n",
       "        text-align: right;\n",
       "    }\n",
       "</style>\n",
       "<table border=\"1\" class=\"dataframe\">\n",
       "  <thead>\n",
       "    <tr style=\"text-align: right;\">\n",
       "      <th></th>\n",
       "      <th>Missing Values</th>\n",
       "      <th>Percentage</th>\n",
       "    </tr>\n",
       "  </thead>\n",
       "  <tbody>\n",
       "    <tr>\n",
       "      <th>COMMONAREA_MEDI</th>\n",
       "      <td>214865</td>\n",
       "      <td>69.9</td>\n",
       "    </tr>\n",
       "    <tr>\n",
       "      <th>COMMONAREA_MODE</th>\n",
       "      <td>214865</td>\n",
       "      <td>69.9</td>\n",
       "    </tr>\n",
       "    <tr>\n",
       "      <th>COMMONAREA_AVG</th>\n",
       "      <td>214865</td>\n",
       "      <td>69.9</td>\n",
       "    </tr>\n",
       "    <tr>\n",
       "      <th>NONLIVINGAPARTMENTS_MODE</th>\n",
       "      <td>213514</td>\n",
       "      <td>69.4</td>\n",
       "    </tr>\n",
       "    <tr>\n",
       "      <th>NONLIVINGAPARTMENTS_MEDI</th>\n",
       "      <td>213514</td>\n",
       "      <td>69.4</td>\n",
       "    </tr>\n",
       "    <tr>\n",
       "      <th>NONLIVINGAPARTMENTS_AVG</th>\n",
       "      <td>213514</td>\n",
       "      <td>69.4</td>\n",
       "    </tr>\n",
       "    <tr>\n",
       "      <th>FONDKAPREMONT_MODE</th>\n",
       "      <td>210295</td>\n",
       "      <td>68.4</td>\n",
       "    </tr>\n",
       "    <tr>\n",
       "      <th>LIVINGAPARTMENTS_AVG</th>\n",
       "      <td>210199</td>\n",
       "      <td>68.4</td>\n",
       "    </tr>\n",
       "    <tr>\n",
       "      <th>LIVINGAPARTMENTS_MEDI</th>\n",
       "      <td>210199</td>\n",
       "      <td>68.4</td>\n",
       "    </tr>\n",
       "    <tr>\n",
       "      <th>LIVINGAPARTMENTS_MODE</th>\n",
       "      <td>210199</td>\n",
       "      <td>68.4</td>\n",
       "    </tr>\n",
       "    <tr>\n",
       "      <th>FLOORSMIN_MEDI</th>\n",
       "      <td>208642</td>\n",
       "      <td>67.8</td>\n",
       "    </tr>\n",
       "    <tr>\n",
       "      <th>FLOORSMIN_MODE</th>\n",
       "      <td>208642</td>\n",
       "      <td>67.8</td>\n",
       "    </tr>\n",
       "    <tr>\n",
       "      <th>FLOORSMIN_AVG</th>\n",
       "      <td>208642</td>\n",
       "      <td>67.8</td>\n",
       "    </tr>\n",
       "    <tr>\n",
       "      <th>YEARS_BUILD_MODE</th>\n",
       "      <td>204488</td>\n",
       "      <td>66.5</td>\n",
       "    </tr>\n",
       "    <tr>\n",
       "      <th>YEARS_BUILD_MEDI</th>\n",
       "      <td>204488</td>\n",
       "      <td>66.5</td>\n",
       "    </tr>\n",
       "  </tbody>\n",
       "</table>\n",
       "</div>"
      ],
      "text/plain": [
       "                          Missing Values  Percentage\n",
       "COMMONAREA_MEDI                   214865        69.9\n",
       "COMMONAREA_MODE                   214865        69.9\n",
       "COMMONAREA_AVG                    214865        69.9\n",
       "NONLIVINGAPARTMENTS_MODE          213514        69.4\n",
       "NONLIVINGAPARTMENTS_MEDI          213514        69.4\n",
       "NONLIVINGAPARTMENTS_AVG           213514        69.4\n",
       "FONDKAPREMONT_MODE                210295        68.4\n",
       "LIVINGAPARTMENTS_AVG              210199        68.4\n",
       "LIVINGAPARTMENTS_MEDI             210199        68.4\n",
       "LIVINGAPARTMENTS_MODE             210199        68.4\n",
       "FLOORSMIN_MEDI                    208642        67.8\n",
       "FLOORSMIN_MODE                    208642        67.8\n",
       "FLOORSMIN_AVG                     208642        67.8\n",
       "YEARS_BUILD_MODE                  204488        66.5\n",
       "YEARS_BUILD_MEDI                  204488        66.5"
      ]
     },
     "execution_count": 34,
     "metadata": {},
     "output_type": "execute_result"
    }
   ],
   "source": [
    "missing_values_table(app_train)"
   ]
  },
  {
   "cell_type": "code",
   "execution_count": 45,
   "id": "65ded39b",
   "metadata": {},
   "outputs": [
    {
     "data": {
      "image/png": "[encoded data removed]",
      "text/plain": [
       "<Figure size 640x480 with 1 Axes>"
      ]
     },
     "metadata": {},
     "output_type": "display_data"
    }
   ],
   "source": [
    "cent_age = 365.25 * 100\n",
    "\n",
    "age = abs(app_train['DAYS_EMPLOYED'] / 365.25)\n",
    "\n",
    "plt.hist(\n",
    "    age,\n",
    "    bins=100\n",
    "         )\n",
    "plt.show()"
   ]
  },
  {
   "cell_type": "code",
   "execution_count": 58,
   "id": "b834f5e3",
   "metadata": {},
   "outputs": [
    {
     "data": {
      "image/png": "[encoded data removed]",
      "text/plain": [
       "<Figure size 640x480 with 1 Axes>"
      ]
     },
     "metadata": {},
     "output_type": "display_data"
    }
   ],
   "source": [
    "income_over_10_mil = app_train['AMT_INCOME_TOTAL'].loc[app_train['AMT_INCOME_TOTAL'] >= 10_000_000]\n",
    "\n",
    "plt.hist(\n",
    "    income_over_10_mil\n",
    "         )\n",
    "plt.show()"
   ]
  }
 ],
 "metadata": {
  "kernelspec": {
   "display_name": "default-model",
   "language": "python",
   "name": "python3"
  },
  "language_info": {
   "codemirror_mode": {
    "name": "ipython",
    "version": 3
   },
   "file_extension": ".py",
   "mimetype": "text/x-python",
   "name": "python",
   "nbconvert_exporter": "python",
   "pygments_lexer": "ipython3",
   "version": "3.13.2"
  }
 },
 "nbformat": 4,
 "nbformat_minor": 5
}
